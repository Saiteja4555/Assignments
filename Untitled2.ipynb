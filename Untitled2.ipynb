{
  "nbformat": 4,
  "nbformat_minor": 0,
  "metadata": {
    "colab": {
      "provenance": [],
      "authorship_tag": "ABX9TyO6bWSnh5SHdz+3/UDss7Tk",
      "include_colab_link": true
    },
    "kernelspec": {
      "name": "python3",
      "display_name": "Python 3"
    },
    "language_info": {
      "name": "python"
    }
  },
  "cells": [
    {
      "cell_type": "markdown",
      "metadata": {
        "id": "view-in-github",
        "colab_type": "text"
      },
      "source": [
        "<a href=\"https://colab.research.google.com/github/Saiteja4555/Assignments/blob/main/Untitled2.ipynb\" target=\"_parent\"><img src=\"https://colab.research.google.com/assets/colab-badge.svg\" alt=\"Open In Colab\"/></a>"
      ]
    },
    {
      "cell_type": "code",
      "execution_count": 1,
      "metadata": {
        "colab": {
          "base_uri": "https://localhost:8080/"
        },
        "id": "YH698g8DRhS9",
        "outputId": "9541a392-f36a-4998-9dd8-01fcdc8fc4f7"
      },
      "outputs": [
        {
          "output_type": "stream",
          "name": "stdout",
          "text": [
            "10\n",
            "<class 'int'>\n",
            "20.5\n",
            "<class 'float'>\n",
            "(3+5j)\n",
            "<class 'complex'>\n",
            "Hello, World!\n",
            "<class 'str'>\n",
            "True\n",
            "<class 'bool'>\n"
          ]
        }
      ],
      "source": [
        "# Write a program in Jupyter Notebook to declare variables of different data types.\n",
        "# int\n",
        "a = 10\n",
        "print(a)\n",
        "print(type(a))\n",
        "\n",
        "# float\n",
        "b = 20.5\n",
        "print(b)\n",
        "print(type(b))\n",
        "\n",
        "# complex\n",
        "c = 3 + 5j\n",
        "print(c)\n",
        "print(type(c))\n",
        "\n",
        "# str\n",
        "d = \"Hello, World!\"\n",
        "print(d)\n",
        "print(type(d))\n",
        "\n",
        "# bool\n",
        "e = True\n",
        "print(e)\n",
        "print(type(e))"
      ]
    }
  ]
}