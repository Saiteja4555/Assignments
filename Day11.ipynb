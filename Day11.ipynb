{
  "nbformat": 4,
  "nbformat_minor": 0,
  "metadata": {
    "colab": {
      "provenance": [],
      "authorship_tag": "ABX9TyP7Kw3SxVtJRFFADuekVfvU",
      "include_colab_link": true
    },
    "kernelspec": {
      "name": "python3",
      "display_name": "Python 3"
    },
    "language_info": {
      "name": "python"
    }
  },
  "cells": [
    {
      "cell_type": "markdown",
      "metadata": {
        "id": "view-in-github",
        "colab_type": "text"
      },
      "source": [
        "<a href=\"https://colab.research.google.com/github/Saiteja4555/Assignments/blob/main/Day11.ipynb\" target=\"_parent\"><img src=\"https://colab.research.google.com/assets/colab-badge.svg\" alt=\"Open In Colab\"/></a>"
      ]
    },
    {
      "cell_type": "code",
      "source": [
        "import nltk\n",
        "import spacy\n",
        "\n",
        "# Download the required NLTK data package\n",
        "nltk.download('punkt_tab') # Download the punkt_tab package\n",
        "\n",
        "text = \"I'm Sai Teja and I love python. \"\n",
        "\n",
        "sentences_nltk = nltk.sent_tokenize(text)\n",
        "words_nltk = nltk.word_tokenize(text)\n",
        "\n",
        "nlp = spacy.load(\"en_core_web_sm\")\n",
        "doc = nlp(text)\n",
        "\n",
        "sentences_spacy = list(doc.sents)\n",
        "words_spacy = [token.text for token in doc]\n",
        "\n",
        "print(\"Original Text:\")\n",
        "print(text)\n",
        "\n",
        "print(\"\\nSentences (NLTK):\")\n",
        "print(sentences_nltk)\n",
        "\n",
        "print(\"\\nWords (NLTK):\")\n",
        "print(words_nltk)\n",
        "\n",
        "print(\"\\nSentences (SpaCy):\")\n",
        "print([str(sent) for sent in sentences_spacy])\n",
        "\n",
        "print(\"\\nWords (SpaCy):\")\n",
        "print(words_spacy)"
      ],
      "metadata": {
        "colab": {
          "base_uri": "https://localhost:8080/"
        },
        "id": "VtfNwX6QQoak",
        "outputId": "bd4278d1-5d84-40a6-dcff-581b6749795f"
      },
      "execution_count": 4,
      "outputs": [
        {
          "output_type": "stream",
          "name": "stderr",
          "text": [
            "[nltk_data] Downloading package punkt_tab to /root/nltk_data...\n",
            "[nltk_data]   Package punkt_tab is already up-to-date!\n"
          ]
        },
        {
          "output_type": "stream",
          "name": "stdout",
          "text": [
            "Original Text:\n",
            "I'm Sai Teja and I love python. \n",
            "\n",
            "Sentences (NLTK):\n",
            "[\"I'm Sai Teja and I love python.\"]\n",
            "\n",
            "Words (NLTK):\n",
            "['I', \"'m\", 'Sai', 'Teja', 'and', 'I', 'love', 'python', '.']\n",
            "\n",
            "Sentences (SpaCy):\n",
            "[\"I'm Sai Teja and I love python.\"]\n",
            "\n",
            "Words (SpaCy):\n",
            "['I', \"'m\", 'Sai', 'Teja', 'and', 'I', 'love', 'python', '.']\n"
          ]
        }
      ]
    },
    {
      "cell_type": "code",
      "source": [],
      "metadata": {
        "id": "9vLMO-CPQpjr"
      },
      "execution_count": null,
      "outputs": []
    }
  ]
}