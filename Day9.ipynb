{
  "nbformat": 4,
  "nbformat_minor": 0,
  "metadata": {
    "colab": {
      "provenance": [],
      "authorship_tag": "ABX9TyOLp/GNTd3O8vlNl3P0ANJW",
      "include_colab_link": true
    },
    "kernelspec": {
      "name": "python3",
      "display_name": "Python 3"
    },
    "language_info": {
      "name": "python"
    }
  },
  "cells": [
    {
      "cell_type": "markdown",
      "metadata": {
        "id": "view-in-github",
        "colab_type": "text"
      },
      "source": [
        "<a href=\"https://colab.research.google.com/github/Saiteja4555/Assignments/blob/main/Day9.ipynb\" target=\"_parent\"><img src=\"https://colab.research.google.com/assets/colab-badge.svg\" alt=\"Open In Colab\"/></a>"
      ]
    },
    {
      "cell_type": "code",
      "source": [
        "import gensim\n",
        "from gensim.utils import simple_preprocess\n",
        "from gensim.parsing.preprocessing import remove_stopwords\n",
        "import spacy\n",
        "from nltk.stem import SnowballStemmer\n",
        "\n",
        "nlp = spacy.load(\"en_core_web_sm\")\n",
        "stemmer = SnowballStemmer(\"english\")\n",
        "\n",
        "def preprocess_text(text):\n",
        "    tokens = simple_preprocess(text)\n",
        "    tokens_no_stopwords = [remove_stopwords(token) for token in tokens if token]\n",
        "    stemmed_tokens = [stemmer.stem(token) for token in tokens_no_stopwords]\n",
        "    doc = nlp(\" \".join(stemmed_tokens))\n",
        "    lemmatized_tokens = [token.lemma_ for token in doc if not token.is_stop]\n",
        "    return lemmatized_tokens\n",
        "\n",
        "text_data = \"This is a sample text for testing. Text preprocessing includes tokenization, stemming, and lemmatization.\"\n",
        "processed_tokens = preprocess_text(text_data)\n",
        "\n",
        "print(\"Original Text:\")\n",
        "print(text_data)\n",
        "print(\"\\nProcessed Tokens:\")\n",
        "print(processed_tokens)\n"
      ],
      "metadata": {
        "colab": {
          "base_uri": "https://localhost:8080/"
        },
        "id": "_BqaGzYpLWLD",
        "outputId": "e88abad5-9bfb-430c-b14d-4e5de286c5c7"
      },
      "execution_count": 2,
      "outputs": [
        {
          "output_type": "stream",
          "name": "stdout",
          "text": [
            "Original Text:\n",
            "This is a sample text for testing. Text preprocessing includes tokenization, stemming, and lemmatization.\n",
            "\n",
            "Processed Tokens:\n",
            "['  ', 'sampl', 'text', ' ', 'test', 'text', 'preprocess', 'includ', 'token', 'stem', ' ', 'lemmat']\n"
          ]
        }
      ]
    }
  ]
}