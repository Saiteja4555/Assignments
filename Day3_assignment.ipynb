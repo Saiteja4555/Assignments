{
  "nbformat": 4,
  "nbformat_minor": 0,
  "metadata": {
    "colab": {
      "provenance": [],
      "authorship_tag": "ABX9TyNBWSSEKcHYcwYA42VY5ka+",
      "include_colab_link": true
    },
    "kernelspec": {
      "name": "python3",
      "display_name": "Python 3"
    },
    "language_info": {
      "name": "python"
    }
  },
  "cells": [
    {
      "cell_type": "markdown",
      "metadata": {
        "id": "view-in-github",
        "colab_type": "text"
      },
      "source": [
        "<a href=\"https://colab.research.google.com/github/Saiteja4555/Assignments/blob/main/Day3_assignment.ipynb\" target=\"_parent\"><img src=\"https://colab.research.google.com/assets/colab-badge.svg\" alt=\"Open In Colab\"/></a>"
      ]
    },
    {
      "cell_type": "code",
      "execution_count": 1,
      "metadata": {
        "colab": {
          "base_uri": "https://localhost:8080/"
        },
        "id": "YH698g8DRhS9",
        "outputId": "9541a392-f36a-4998-9dd8-01fcdc8fc4f7"
      },
      "outputs": [
        {
          "output_type": "stream",
          "name": "stdout",
          "text": [
            "10\n",
            "<class 'int'>\n",
            "20.5\n",
            "<class 'float'>\n",
            "(3+5j)\n",
            "<class 'complex'>\n",
            "Hello, World!\n",
            "<class 'str'>\n",
            "True\n",
            "<class 'bool'>\n"
          ]
        }
      ],
      "source": [
        "# Write a program in Jupyter Notebook to declare variables of different data types.\n",
        "# int\n",
        "a = 10\n",
        "print(a)\n",
        "print(type(a))\n",
        "\n",
        "# float\n",
        "b = 20.5\n",
        "print(b)\n",
        "print(type(b))\n",
        "\n",
        "# complex\n",
        "c = 3 + 5j\n",
        "print(c)\n",
        "print(type(c))\n",
        "\n",
        "# str\n",
        "d = \"Hello, World!\"\n",
        "print(d)\n",
        "print(type(d))\n",
        "\n",
        "# bool\n",
        "e = True\n",
        "print(e)\n",
        "print(type(e))"
      ]
    },
    {
      "cell_type": "code",
      "source": [],
      "metadata": {
        "id": "ugqfg3MCTZki"
      },
      "execution_count": null,
      "outputs": []
    },
    {
      "cell_type": "code",
      "source": [
        "# Create a List, tuple and Dictionary with 5 elements in it and how to access few elements based on the index. Try  with different examples\n",
        "list_1 = [\"Saiteja\",\"Pavani\",\"ChatGpt\",\"CodeChef\",\"HackerRank\"]\n",
        "dict_1 = {\"Saiteja\":1,\"Pavani\":2,\"ChatGpt\":3,\"CodeChef\":4,\"HackerRank\":5}\n",
        "tuple_1 = (\"Saiteja\",\"Pavani\",\"ChatGpt\",\"CodeChef\",\"HackerRank\")\n",
        "print(list_1[0])\n",
        "print(list_1[1])\n",
        "print(dict_1[\"Saiteja\"])\n",
        "print(dict_1[\"Pavani\"])\n",
        "print(tuple_1[0])\n",
        "print(tuple_1[1])\n"
      ],
      "metadata": {
        "colab": {
          "base_uri": "https://localhost:8080/"
        },
        "id": "mwaoaaQgTw8X",
        "outputId": "781f0e37-64ff-44cd-a5b4-a600160d6ef4"
      },
      "execution_count": 4,
      "outputs": [
        {
          "output_type": "stream",
          "name": "stdout",
          "text": [
            "Saiteja\n",
            "Pavani\n",
            "1\n",
            "2\n",
            "Saiteja\n",
            "Pavani\n"
          ]
        }
      ]
    },
    {
      "cell_type": "code",
      "source": [
        "\"\"\"Write a Python program that takes a student's marks in three subjects as input.\n",
        "If the average is greater than or equal to 90, print \"Grade: A\".\n",
        "If the average is between 80 and 89, print \"Grade: B\".\n",
        "If the average is between 70 and 79, print \"Grade: C\".\n",
        "Otherwise, print \"Grade: Fail\".\"\"\"\n",
        "marks_1 = int(input(\"Enter the marks in subject 1: \"))\n",
        "marks_2 = int(input(\"Enter the marks in subject 2: \"))\n",
        "marks_3 = int(input(\"Enter the marks in subject 3: \"))\n",
        "average = (marks_1 + marks_2 + marks_3) / 3\n",
        "if average >= 90:\n",
        "    print(\"Grade: A\")\n",
        "    print(average)\n",
        "elif average >= 80 and average <= 89:\n",
        "    print(\"Grade: B\")\n",
        "    print(average)\n",
        "elif average >= 70 and average <= 79:\n",
        "    print(\"Grade: C\")\n",
        "    print(average)\n",
        "else:\n",
        "  print(\"Grade: Fail\")\n",
        "  print(average)\n"
      ],
      "metadata": {
        "colab": {
          "base_uri": "https://localhost:8080/"
        },
        "id": "t8ZjrV32UuIP",
        "outputId": "9a4f8e1f-2dda-4c51-f2ed-624de42278c1"
      },
      "execution_count": 9,
      "outputs": [
        {
          "output_type": "stream",
          "name": "stdout",
          "text": [
            "Enter the marks in subject 1: 70\n",
            "Enter the marks in subject 2: 75\n",
            "Enter the marks in subject 3: 80\n",
            "Grade: C\n",
            "75.0\n"
          ]
        }
      ]
    }
  ]
}