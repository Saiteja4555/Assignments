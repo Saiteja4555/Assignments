{
  "nbformat": 4,
  "nbformat_minor": 0,
  "metadata": {
    "colab": {
      "provenance": [],
      "authorship_tag": "ABX9TyMAutgr2XnhVB2+mSpJLiVD",
      "include_colab_link": true
    },
    "kernelspec": {
      "name": "python3",
      "display_name": "Python 3"
    },
    "language_info": {
      "name": "python"
    }
  },
  "cells": [
    {
      "cell_type": "markdown",
      "metadata": {
        "id": "view-in-github",
        "colab_type": "text"
      },
      "source": [
        "<a href=\"https://colab.research.google.com/github/Saiteja4555/Assignments/blob/main/Day6.ipynb\" target=\"_parent\"><img src=\"https://colab.research.google.com/assets/colab-badge.svg\" alt=\"Open In Colab\"/></a>"
      ]
    },
    {
      "cell_type": "code",
      "source": [
        "#Write a Python program to using NLTK and Spacy\n",
        "#Convert text to lowercase.\n",
        "#Remove stopwords using NLTK\n",
        "import nltk\n",
        "from nltk.corpus import stopwords\n",
        "import spacy\n",
        "\n",
        "#nltk.download('stopwords')\n",
        "\n",
        "def process_text(text):\n",
        "    text = text.lower()\n",
        "    stop_words = set(stopwords.words('english'))\n",
        "    nlp = spacy.load(\"en_core_web_sm\")\n",
        "    doc = nlp(text)\n",
        "    filtered_tokens = [token.text for token in doc if token.text not in stop_words]\n",
        "    return \" \".join(filtered_tokens)\n",
        "\n",
        "text = \"This is an example of text processing using NLTK and SpaCy.\"\n",
        "result = process_text(text)\n",
        "print(\"Original Text:\", text)\n",
        "print(\"Processed Text:\", result)\n"
      ],
      "metadata": {
        "id": "xCi9qW9tXjik",
        "colab": {
          "base_uri": "https://localhost:8080/"
        },
        "outputId": "a66e2cc4-ba5e-4032-aa1b-a0e3e9265568"
      },
      "execution_count": 2,
      "outputs": [
        {
          "output_type": "stream",
          "name": "stdout",
          "text": [
            "Original Text: This is an example of text processing using NLTK and SpaCy.\n",
            "Processed Text: example text processing using nltk spacy .\n"
          ]
        }
      ]
    }
  ]
}