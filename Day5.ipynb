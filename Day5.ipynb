{
  "nbformat": 4,
  "nbformat_minor": 0,
  "metadata": {
    "colab": {
      "provenance": [],
      "authorship_tag": "ABX9TyPynCaZ56P4QWLSJqiANtFf",
      "include_colab_link": true
    },
    "kernelspec": {
      "name": "python3",
      "display_name": "Python 3"
    },
    "language_info": {
      "name": "python"
    }
  },
  "cells": [
    {
      "cell_type": "markdown",
      "metadata": {
        "id": "view-in-github",
        "colab_type": "text"
      },
      "source": [
        "<a href=\"https://colab.research.google.com/github/Saiteja4555/Assignments/blob/main/Day5.ipynb\" target=\"_parent\"><img src=\"https://colab.research.google.com/assets/colab-badge.svg\" alt=\"Open In Colab\"/></a>"
      ]
    },
    {
      "cell_type": "code",
      "execution_count": 1,
      "metadata": {
        "colab": {
          "base_uri": "https://localhost:8080/"
        },
        "id": "2rrPgnsHTtfY",
        "outputId": "fe9bc9bb-5479-4f62-e58f-6afe40f0dedd"
      },
      "outputs": [
        {
          "output_type": "stream",
          "name": "stdout",
          "text": [
            "Enter the text: I love python\n",
            "\n",
            "Word Frequencies:\n",
            "i: 1\n",
            "love: 1\n",
            "python: 1\n"
          ]
        }
      ],
      "source": [
        "# python program to cal the frequency  of ecah word  in a given txt & print the words and their corresponding counts\n",
        "\n",
        "text = input(\"Enter the text: \")\n",
        "words = text.split()\n",
        "word_count = {}\n",
        "\n",
        "for word in words:\n",
        "    word = word.lower()\n",
        "    word = word.strip(\",.!?\\\"'()[]{}\")\n",
        "    word_count[word] = word_count.get(word, 0) + 1\n",
        "\n",
        "print(\"\\nWord Frequencies:\")\n",
        "for word, count in word_count.items():\n",
        "    print(f\"{word}: {count}\")\n"
      ]
    },
    {
      "cell_type": "code",
      "source": [],
      "metadata": {
        "id": "LglEkU1JUkPE"
      },
      "execution_count": null,
      "outputs": []
    }
  ]
}