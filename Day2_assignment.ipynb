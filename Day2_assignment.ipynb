{
  "nbformat": 4,
  "nbformat_minor": 0,
  "metadata": {
    "colab": {
      "provenance": [],
      "authorship_tag": "ABX9TyOha0ltnK70gU+g49Wkhinc",
      "include_colab_link": true
    },
    "kernelspec": {
      "name": "python3",
      "display_name": "Python 3"
    },
    "language_info": {
      "name": "python"
    }
  },
  "cells": [
    {
      "cell_type": "markdown",
      "metadata": {
        "id": "view-in-github",
        "colab_type": "text"
      },
      "source": [
        "<a href=\"https://colab.research.google.com/github/Saiteja4555/Assignments/blob/main/Day2_assignment.ipynb\" target=\"_parent\"><img src=\"https://colab.research.google.com/assets/colab-badge.svg\" alt=\"Open In Colab\"/></a>"
      ]
    },
    {
      "cell_type": "code",
      "execution_count": 1,
      "metadata": {
        "colab": {
          "base_uri": "https://localhost:8080/"
        },
        "id": "YH698g8DRhS9",
        "outputId": "9541a392-f36a-4998-9dd8-01fcdc8fc4f7"
      },
      "outputs": [
        {
          "output_type": "stream",
          "name": "stdout",
          "text": [
            "10\n",
            "<class 'int'>\n",
            "20.5\n",
            "<class 'float'>\n",
            "(3+5j)\n",
            "<class 'complex'>\n",
            "Hello, World!\n",
            "<class 'str'>\n",
            "True\n",
            "<class 'bool'>\n"
          ]
        }
      ],
      "source": [
        "# Write a program in Jupyter Notebook to declare variables of different data types.\n",
        "# int\n",
        "a = 10\n",
        "print(a)\n",
        "print(type(a))\n",
        "\n",
        "# float\n",
        "b = 20.5\n",
        "print(b)\n",
        "print(type(b))\n",
        "\n",
        "# complex\n",
        "c = 3 + 5j\n",
        "print(c)\n",
        "print(type(c))\n",
        "\n",
        "# str\n",
        "d = \"Hello, World!\"\n",
        "print(d)\n",
        "print(type(d))\n",
        "\n",
        "# bool\n",
        "e = True\n",
        "print(e)\n",
        "print(type(e))"
      ]
    },
    {
      "cell_type": "code",
      "source": [],
      "metadata": {
        "id": "ugqfg3MCTZki"
      },
      "execution_count": null,
      "outputs": []
    },
    {
      "cell_type": "code",
      "source": [
        "# Create a List, tuple and Dictionary with 5 elements in it and how to access few elements based on the index. Try  with different examples\n",
        "list_1 = [\"Saiteja\",\"Pavani\",\"ChatGpt\",\"CodeChef\",\"HackerRank\"]\n",
        "dict_1 = {\"Saiteja\":1,\"Pavani\":2,\"ChatGpt\":3,\"CodeChef\":4,\"HackerRank\":5}\n",
        "tuple_1 = (\"Saiteja\",\"Pavani\",\"ChatGpt\",\"CodeChef\",\"HackerRank\")\n",
        "print(list_1[0])\n",
        "print(list_1[1])\n",
        "print(dict_1[\"Saiteja\"])\n",
        "print(dict_1[\"Pavani\"])\n",
        "print(tuple_1[0])\n",
        "print(tuple_1[1])\n"
      ],
      "metadata": {
        "colab": {
          "base_uri": "https://localhost:8080/"
        },
        "id": "mwaoaaQgTw8X",
        "outputId": "781f0e37-64ff-44cd-a5b4-a600160d6ef4"
      },
      "execution_count": 4,
      "outputs": [
        {
          "output_type": "stream",
          "name": "stdout",
          "text": [
            "Saiteja\n",
            "Pavani\n",
            "1\n",
            "2\n",
            "Saiteja\n",
            "Pavani\n"
          ]
        }
      ]
    }
  ]
}