{
  "cells": [
    {
      "cell_type": "markdown",
      "metadata": {
        "id": "view-in-github",
        "colab_type": "text"
      },
      "source": [
        "<a href=\"https://colab.research.google.com/github/Saiteja4555/Assignments/blob/main/Day20.ipynb\" target=\"_parent\"><img src=\"https://colab.research.google.com/assets/colab-badge.svg\" alt=\"Open In Colab\"/></a>"
      ]
    },
    {
      "cell_type": "code",
      "source": [
        "'''Text Visualizations with WordCloud on Datasets - Coding Assignment\n",
        "   Assignment:\n",
        "   Write a Python script to generate a WordCloud from the text: 'data science machine\n",
        "   learning artificial intelligence'. Save the WordCloud as an image.'''\n",
        "\n",
        "from wordcloud import WordCloud\n",
        "\n",
        "text = \"data science machine learning artificial intelligence\"\n",
        "wordcloud = WordCloud(width=800, height=400, background_color='white').generate(text)\n",
        "wordcloud.to_file(\"wordcloud.png\")\n",
        "\n",
        "print(\"WordCloud saved as 'wordcloud.png'\")\n"
      ],
      "metadata": {
        "colab": {
          "base_uri": "https://localhost:8080/"
        },
        "id": "e07Dg5qFtbuf",
        "outputId": "4de155ef-1015-4085-ee14-a9b847439453"
      },
      "execution_count": 4,
      "outputs": [
        {
          "output_type": "stream",
          "name": "stdout",
          "text": [
            "WordCloud saved as 'wordcloud.png'\n"
          ]
        }
      ]
    },
    {
      "cell_type": "code",
      "source": [],
      "metadata": {
        "id": "RvyB0LY0u9Yi"
      },
      "execution_count": null,
      "outputs": []
    }
  ],
  "metadata": {
    "colab": {
      "provenance": [],
      "authorship_tag": "ABX9TyNMLrFjXzOdqCp7fTS4oAci",
      "include_colab_link": true
    },
    "kernelspec": {
      "display_name": "Python 3",
      "name": "python3"
    },
    "language_info": {
      "name": "python"
    }
  },
  "nbformat": 4,
  "nbformat_minor": 0
}